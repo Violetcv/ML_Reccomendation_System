{
 "cells": [
  {
   "cell_type": "code",
   "execution_count": 4,
   "id": "0c79153a",
   "metadata": {},
   "outputs": [
    {
     "name": "stdout",
     "output_type": "stream",
     "text": [
      "Movie with title 'Hunger Games' not found in the dataset.\n",
      "Recommendations for Hunger Games:\n",
      "None\n"
     ]
    }
   ],
   "source": [
    "import pandas as pd\n",
    "from sklearn.feature_extraction.text import TfidfVectorizer\n",
    "from sklearn.metrics.pairwise import linear_kernel\n",
    "\n",
    "# Load the dataset\n",
    "df = pd.read_csv('C:\\\\Users\\\\disch\\\\Desktop\\\\Projects\\\\ML_REC_SYSTEM\\\\ml-latest-small\\\\movies.csv')\n",
    "\n",
    "# Create a TF-IDF vectorizer to convert genre text to numerical features\n",
    "tfidf_vectorizer = TfidfVectorizer(stop_words='english')\n",
    "tfidf_matrix = tfidf_vectorizer.fit_transform(df['genres'])\n",
    "\n",
    "# Calculate the cosine similarity between movies based on their genre\n",
    "cosine_sim = linear_kernel(tfidf_matrix, tfidf_matrix)\n",
    "\n",
    "# Create a function to get movie recommendations\n",
    "def get_recommendations(title, cosine_sim=cosine_sim):\n",
    "    indices = df.index[df['title'] == title].tolist()\n",
    "    \n",
    "    if not indices:\n",
    "        print(f\"Movie with title '{title}' not found in the dataset.\")\n",
    "        return\n",
    "    \n",
    "    idx = indices[0]\n",
    "    sim_scores = list(enumerate(cosine_sim[idx]))\n",
    "    sim_scores = sorted(sim_scores, key=lambda x: x[1], reverse=True)\n",
    "    sim_scores = sim_scores[1:11]  # Get the top 10 similar movies\n",
    "    movie_indices = [i[0] for i in sim_scores]\n",
    "    return df['title'].iloc[movie_indices]\n",
    "\n",
    "# Test the recommendation system\n",
    "movie_title = \"Hunger Games\"\n",
    "recommendations = get_recommendations(movie_title)\n",
    "print(f\"Recommendations for {movie_title}:\")\n",
    "print(recommendations)"
   ]
  },
  {
   "cell_type": "code",
   "execution_count": 5,
   "id": "dd71bb6d",
   "metadata": {},
   "outputs": [
    {
     "name": "stdout",
     "output_type": "stream",
     "text": [
      "Recommendations for The Hunger Games (2012):\n",
      "5665               Sound of Thunder, A (2005)\n",
      "6330                   Children of Men (2006)\n",
      "6681                            Jumper (2008)\n",
      "7767                  The Hunger Games (2012)\n",
      "8590                    Jurassic World (2015)\n",
      "9707    Jurassic World: Fallen Kingdom (2018)\n",
      "418                      Jurassic Park (1993)\n",
      "615      Independence Day (a.k.a. ID4) (1996)\n",
      "656                   Escape from L.A. (1996)\n",
      "856                         Abyss, The (1989)\n",
      "Name: title, dtype: object\n"
     ]
    }
   ],
   "source": [
    "# Test the recommendation system\n",
    "movie_title = \"The Hunger Games (2012)\"\n",
    "recommendations = get_recommendations(movie_title)\n",
    "print(f\"Recommendations for {movie_title}:\")\n",
    "print(recommendations)"
   ]
  },
  {
   "cell_type": "code",
   "execution_count": 6,
   "id": "9531d420",
   "metadata": {},
   "outputs": [
    {
     "name": "stdout",
     "output_type": "stream",
     "text": [
      "Recommendations for Toy Story (1995):\n",
      "1706                                          Antz (1998)\n",
      "2355                                   Toy Story 2 (1999)\n",
      "2809       Adventures of Rocky and Bullwinkle, The (2000)\n",
      "3000                     Emperor's New Groove, The (2000)\n",
      "3568                                Monsters, Inc. (2001)\n",
      "6194                                     Wild, The (2006)\n",
      "6486                               Shrek the Third (2007)\n",
      "6948                       Tale of Despereaux, The (2008)\n",
      "7760    Asterix and the Vikings (Astérix et les Viking...\n",
      "8219                                         Turbo (2013)\n",
      "Name: title, dtype: object\n"
     ]
    }
   ],
   "source": [
    "# Test the recommendation system\n",
    "movie_title = \"Toy Story (1995)\"\n",
    "recommendations = get_recommendations(movie_title)\n",
    "print(f\"Recommendations for {movie_title}:\")\n",
    "print(recommendations)"
   ]
  },
  {
   "cell_type": "code",
   "execution_count": null,
   "id": "39546b4e",
   "metadata": {},
   "outputs": [],
   "source": []
  }
 ],
 "metadata": {
  "kernelspec": {
   "display_name": "Python 3 (ipykernel)",
   "language": "python",
   "name": "python3"
  },
  "language_info": {
   "codemirror_mode": {
    "name": "ipython",
    "version": 3
   },
   "file_extension": ".py",
   "mimetype": "text/x-python",
   "name": "python",
   "nbconvert_exporter": "python",
   "pygments_lexer": "ipython3",
   "version": "3.11.5"
  }
 },
 "nbformat": 4,
 "nbformat_minor": 5
}
